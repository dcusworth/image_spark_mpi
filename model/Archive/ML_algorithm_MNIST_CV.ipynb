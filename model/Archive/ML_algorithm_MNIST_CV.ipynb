{
 "cells": [
  {
   "cell_type": "code",
   "execution_count": 1,
   "metadata": {
    "collapsed": true
   },
   "outputs": [],
   "source": [
    "%matplotlib inline\n",
    "import numpy as np\n",
    "import matplotlib.pyplot as plt\n",
    "import time\n",
    "from sklearn.model_selection import train_test_split\n",
    "import random"
   ]
  },
  {
   "cell_type": "code",
   "execution_count": 2,
   "metadata": {
    "collapsed": false
   },
   "outputs": [],
   "source": [
    "import findspark\n",
    "findspark.init() \n",
    "\n",
    "import pyspark\n",
    "sc = pyspark.SparkContext()"
   ]
  },
  {
   "cell_type": "code",
   "execution_count": 3,
   "metadata": {
    "collapsed": false
   },
   "outputs": [],
   "source": [
    "from mnist import MNIST\n",
    "mndata = MNIST('/Volumes/TRANSCEND/MNIST/python-mnist/data')\n",
    "images, labels = mndata.load_training()"
   ]
  },
  {
   "cell_type": "code",
   "execution_count": 4,
   "metadata": {
    "collapsed": false
   },
   "outputs": [
    {
     "data": {
      "image/png": "[encoded data removed]",
      "text/plain": [
       "<matplotlib.figure.Figure at 0x1088f0350>"
      ]
     },
     "metadata": {},
     "output_type": "display_data"
    }
   ],
   "source": [
    "iimage = np.array(images[2], dtype='uint8')\n",
    "\n",
    "plt.imshow(iimage.reshape(28,28), cmap='gray')\n",
    "plt.title('label is ' + str(labels[2]))\n",
    "plt.show()"
   ]
  },
  {
   "cell_type": "code",
   "execution_count": 14,
   "metadata": {
    "collapsed": false
   },
   "outputs": [],
   "source": [
    "#Build feature map\n",
    "N = 10000 #How many images I want to load\n",
    "d = 784 #Pixels of MNIST data\n",
    "lambda_grid = [1**q for q in np.linspace(-10,10,20)]\n",
    "\n",
    "#Choose which label you want to train\n",
    "label_choose = 4\n"
   ]
  },
  {
   "cell_type": "code",
   "execution_count": 15,
   "metadata": {
    "collapsed": false
   },
   "outputs": [],
   "source": [
    "feature_map = np.zeros((N,d))\n",
    "for i in range(N): #Just do a subset of training for now\n",
    "    feature_map[i,:] = images[i]\n",
    "y_c = [1 if l == label_choose else -1 for l in labels]\n",
    "\n",
    "\n",
    "#Start spark instance on points\n",
    "dpoints = zip(y_c, feature_map)\n",
    "points = sc.parallelize(dpoints)\n",
    "\n",
    "\n",
    "#First use Spark to center the image - removes bias\n",
    "x_mean = points.map(lambda x: x[1]).reduce(lambda x,y: (x+y) ) / float(N)\n",
    "x_c = points.map(lambda x: x[1] - x_mean).take(N)\n",
    "\n",
    "#Take train test split\n",
    "sinds = range(len(y_c))\n",
    "random.shuffle(sinds)\n",
    "tint = int(.6*len(y_c))\n",
    "vint = int(.8*len(y_c))\n",
    "tind = sinds[0:tint]\n",
    "vind = sinds[tint:vint]\n",
    "teind = sinds[vint:-1]\n",
    "\n",
    "tpoints = sc.parallelize(zip([yy for idx,yy in enumerate(y_c) if idx in tind], [xx for idx,xx in enumerate(x_c) if idx in tind]))\n",
    "vpoints = sc.parallelize(zip([yy for idx,yy in enumerate(y_c) if idx in vind], [xx for idx,xx in enumerate(x_c) if idx in vind]))\n",
    "tepoints = sc.parallelize(zip([yy for idx,yy in enumerate(y_c) if idx in teind], [xx for idx,xx in enumerate(x_c) if idx in teind]))"
   ]
  },
  {
   "cell_type": "code",
   "execution_count": 19,
   "metadata": {
    "collapsed": false
   },
   "outputs": [
    {
     "name": "stdout",
     "output_type": "stream",
     "text": [
      " Best lambda 1.0\n",
      "Testing accuracy using  6000 training images = 0.66323907455\n"
     ]
    }
   ],
   "source": [
    "\n",
    "###### Analytical solution to problem #######\n",
    "\n",
    "#Do numerator first - doesn't require regularization\n",
    "numer_map = tpoints.map(lambda x:x[1] * (x[0])) \n",
    "numer_sum = numer_map.reduce(lambda x,y: x+y)\n",
    "\n",
    "y_val = vpoints.map(lambda x:x[0]).collect()\n",
    "\n",
    "def bayes_rule(x):\n",
    "    if x > 0:\n",
    "        return 1\n",
    "    else:\n",
    "        return -1\n",
    "\n",
    "#Do denominator over lambda grid\n",
    "#Get analytical solution with associated error\n",
    "w_stars = []\n",
    "w_error = []\n",
    "for ll in lambda_grid:\n",
    "    denom_map = tpoints.map(lambda x: np.dot(x[1], x[1].T) + N*ll) #Need to add regularization - lambda\n",
    "    denom_sum = denom_map.reduce(lambda x,y: x+y)\n",
    "    iw = numer_sum / float(denom_sum)\n",
    "    \n",
    "    iout = vpoints.map(lambda x:np.dot(x[1],iw))\n",
    "    iclass = iout.map(lambda x:bayes_rule(x)).collect()\n",
    "    \n",
    "    ierr = np.sum([ic == il for ic,il in zip(iclass, y_val)]) / float(N)\n",
    "    \n",
    "    w_stars.append(iw)\n",
    "    w_error.append(ierr)\n",
    "    \n",
    "#Choose best solution\n",
    "best_ind = np.where(w_error == np.min(w_error))[0][0]\n",
    "w_star = w_stars[best_ind]\n",
    "print 'Best lambda', lambda_grid[best_ind]\n",
    "#print 'time to train ', N, 'samples: ', time.time() - start, 'seconds'\n",
    "\n",
    "\n",
    "test_pred = tepoints.map(lambda x:(x[0], np.dot(x[1],w_star)))\n",
    "best_class = test_pred.map(lambda x: (x[0], bayes_rule(x[1])))\n",
    "comp_pred = best_class.map(lambda x: 1*(x[0] == x[1])) \n",
    "accur = comp_pred.reduce(lambda x,y:x+y) / float(comp_pred.count())\n",
    "\n",
    "print 'Testing accuracy using ', int(.6*N), 'training images =', accur"
   ]
  },
  {
   "cell_type": "code",
   "execution_count": 21,
   "metadata": {
    "collapsed": false
   },
   "outputs": [
    {
     "data": {
      "image/png": "[encoded data removed]",
      "text/plain": [
       "<matplotlib.figure.Figure at 0x120c135d0>"
      ]
     },
     "metadata": {},
     "output_type": "display_data"
    }
   ],
   "source": [
    "plt.imshow(w_star.reshape(28,28), cmap='gray')\n",
    "plt.title('Fitted Filter for ' + str(label_choose))\n",
    "plt.show()"
   ]
  },
  {
   "cell_type": "code",
   "execution_count": null,
   "metadata": {
    "collapsed": true
   },
   "outputs": [],
   "source": []
  }
 ],
 "metadata": {
  "kernelspec": {
   "display_name": "Python 2",
   "language": "python",
   "name": "python2"
  },
  "language_info": {
   "codemirror_mode": {
    "name": "ipython",
    "version": 2
   },
   "file_extension": ".py",
   "mimetype": "text/x-python",
   "name": "python",
   "nbconvert_exporter": "python",
   "pygments_lexer": "ipython2",
   "version": "2.7.10"
  }
 },
 "nbformat": 4,
 "nbformat_minor": 0
}
