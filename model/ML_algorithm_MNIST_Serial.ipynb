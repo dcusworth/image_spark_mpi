{
 "cells": [
  {
   "cell_type": "code",
   "execution_count": 13,
   "metadata": {
    "collapsed": true
   },
   "outputs": [],
   "source": [
    "%matplotlib inline\n",
    "import numpy as np\n",
    "import matplotlib.pyplot as plt\n",
    "import time\n",
    "from sklearn.model_selection import train_test_split\n",
    "import random"
   ]
  },
  {
   "cell_type": "code",
   "execution_count": 14,
   "metadata": {
    "collapsed": false
   },
   "outputs": [],
   "source": [
    "from mnist import MNIST\n",
    "mndata = MNIST('/Users/dcusworth/Desktop/mnist/MNIST/python-mnist/data')\n",
    "images, labels = mndata.load_training()"
   ]
  },
  {
   "cell_type": "code",
   "execution_count": 15,
   "metadata": {
    "collapsed": false
   },
   "outputs": [],
   "source": [
    "#Build feature map\n",
    "N = 10000 #How many images I want to load\n",
    "d = 784 #Pixels of MNIST data\n",
    "\n",
    "def bayes_rule(x):\n",
    "    if x > 0:\n",
    "        return 1\n",
    "    else:\n",
    "        return -1\n",
    "    \n",
    "#label_func = lambda x,choose_label: [1 if la == choose_label else -1 for la in x]\n",
    "def label_func(x, choose_label):\n",
    "    if x == choose_label:\n",
    "        return 1\n",
    "    else:\n",
    "        return -1"
   ]
  },
  {
   "cell_type": "code",
   "execution_count": 16,
   "metadata": {
    "collapsed": false
   },
   "outputs": [],
   "source": [
    "start = time.time()\n",
    "\n",
    "#Retrieve data and labels - do preprocessing\n",
    "y_labs = labels[0:N]\n",
    "\n",
    "#Loop over set of regularization parameters\n",
    "vaccs = []\n",
    "lambdas = [10**q for q in np.linspace(-5,5,10)]\n",
    "\n",
    "#Load images\n",
    "feature_map = np.zeros((N,d))\n",
    "for i in range(N): #Just do a subset of training for now\n",
    "    feature_map[i,:] = images[i]\n",
    "\n",
    "#Start spark instance on points\n",
    "#Take train test split\n",
    "sinds = range(N)\n",
    "random.shuffle(sinds)\n",
    "tint = int(.8*N)\n",
    "tind = sinds[0:tint]\n",
    "vind = sinds[tint:-1]\n",
    "\n",
    "#Get rid of bias\n",
    "fmean = feature_map.mean(axis=0)\n",
    "x_c = feature_map - fmean[np.newaxis,:]\n",
    "\n",
    "Xtr = x_c[0:tint]\n",
    "Xvl = x_c[tint:-1]\n",
    "#y_val = [yy for idx,yy in enumerate(y_labs) if idx in vind]\n",
    "#y_tr = [yy for idx,yy in enumerate(y_labs) if idx in tind]\n",
    "y_val = y_labs[tint:-1]\n",
    "y_tr = y_labs[0:tint]\n",
    "\n",
    "for ll in lambdas:\n",
    "\n",
    "    ws = []\n",
    "    iouts = []\n",
    "    classes = []\n",
    "\n",
    "    ### Loop over all labels\n",
    "    for choose_label in range(10): \n",
    "\n",
    "        y_tr_map = [label_func(q, choose_label) for q in y_tr]\n",
    "        Nt = Xtr.shape[0]\n",
    "        Mt = Xtr.shape[1]\n",
    "\n",
    "\n",
    "        #Translate np.dots to for loops\n",
    "        #Can parallelize with pranges in Cython\n",
    "        numer_sum = np.zeros(Mt)\n",
    "        for i in range(Nt):\n",
    "            x_iT = Xtr[i,:]\n",
    "            inumer = x_iT * y_tr_map[i]\n",
    "            numer_sum += inumer\n",
    "\n",
    "        denom_sum = Nt*ll\n",
    "        for i in range(Nt):\n",
    "            x_iT = Xtr[i,:]\n",
    "            idenom = 0\n",
    "            for j in range(Mt):\n",
    "                idenom += x_iT[j] * x_iT[j]\n",
    "            denom_sum += idenom\n",
    "\n",
    "        iw = numer_sum / float(denom_sum)\n",
    "        iout = np.dot(Xvl, iw)\n",
    "        iclass = [np.sign(q) for q in iout]\n",
    "\n",
    "\n",
    "        #Append to output\n",
    "        ws.append(iw)\n",
    "        iouts.append(iout)\n",
    "        classes.append(iclass)\n",
    "\n",
    "    #Figure out how to spark-ify this loop\n",
    "    out_pred = zip(*iouts)\n",
    "\n",
    "    preds = []\n",
    "    for idx in range(len(out_pred)):\n",
    "        ipreds = np.asarray(out_pred[idx])\n",
    "        iclass = np.where(ipreds == np.max(ipreds))[0][0] \n",
    "        preds.append(iclass)\n",
    "\n",
    "    #Determine accuracy on validation\n",
    "    vacc = np.sum([y == p for y,p in zip(y_val, preds)]) / float(len(preds))\n",
    "\n",
    "    #Append to lambda\n",
    "    vaccs.append(vacc)\n",
    "\n",
    "end = time.time()\n"
   ]
  },
  {
   "cell_type": "code",
   "execution_count": 17,
   "metadata": {
    "collapsed": false
   },
   "outputs": [
    {
     "name": "stdout",
     "output_type": "stream",
     "text": [
      "validation accuracy =  0.730865432716\n",
      "best lambda = 1e-05\n",
      "elapsed time for 10000 samples =  459.200274944 seconds\n"
     ]
    }
   ],
   "source": [
    "best_val = np.where(vaccs == np.max(vaccs))[0][0]\n",
    "print 'validation accuracy = ', vaccs[best_val]\n",
    "print 'best lambda =', lambdas[best_val]\n",
    "print 'elapsed time for', N, 'samples = ', end-start, 'seconds'"
   ]
  },
  {
   "cell_type": "code",
   "execution_count": null,
   "metadata": {
    "collapsed": true
   },
   "outputs": [],
   "source": []
  },
  {
   "cell_type": "code",
   "execution_count": null,
   "metadata": {
    "collapsed": true
   },
   "outputs": [],
   "source": []
  }
 ],
 "metadata": {
  "kernelspec": {
   "display_name": "Python 2",
   "language": "python",
   "name": "python2"
  },
  "language_info": {
   "codemirror_mode": {
    "name": "ipython",
    "version": 2
   },
   "file_extension": ".py",
   "mimetype": "text/x-python",
   "name": "python",
   "nbconvert_exporter": "python",
   "pygments_lexer": "ipython2",
   "version": "2.7.10"
  }
 },
 "nbformat": 4,
 "nbformat_minor": 0
}
