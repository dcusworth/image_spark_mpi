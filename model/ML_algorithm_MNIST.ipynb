{
 "cells": [
  {
   "cell_type": "code",
   "execution_count": 1,
   "metadata": {
    "collapsed": false
   },
   "outputs": [],
   "source": [
    "%matplotlib inline\n",
    "import numpy as np\n",
    "import matplotlib.pyplot as plt\n",
    "import time\n",
    "\n",
    "import findspark\n",
    "findspark.init() \n",
    "\n",
    "import pyspark\n",
    "sc = pyspark.SparkContext()"
   ]
  },
  {
   "cell_type": "code",
   "execution_count": 2,
   "metadata": {
    "collapsed": false
   },
   "outputs": [],
   "source": [
    "from mnist import MNIST\n",
    "mndata = MNIST('/Volumes/TRANSCEND/MNIST/python-mnist/data')\n",
    "images, labels = mndata.load_training()"
   ]
  },
  {
   "cell_type": "code",
   "execution_count": 3,
   "metadata": {
    "collapsed": false
   },
   "outputs": [
    {
     "data": {
      "image/png": "[encoded data removed]",
      "text/plain": [
       "<matplotlib.figure.Figure at 0x106c6b1d0>"
      ]
     },
     "metadata": {},
     "output_type": "display_data"
    }
   ],
   "source": [
    "iimage = np.array(images[0], dtype='uint8')\n",
    "\n",
    "plt.imshow(iimage.reshape(28,28), cmap='gray')\n",
    "plt.title('label is ' + str(labels[0]))\n",
    "plt.show()"
   ]
  },
  {
   "cell_type": "code",
   "execution_count": 10,
   "metadata": {
    "collapsed": false
   },
   "outputs": [],
   "source": [
    "#Build feature map\n",
    "N = 5000 #How many images I want to load\n",
    "d = 784 #Pixels of MNIST data\n",
    "lambda_grid = [1e-4, 1e-3, 1e-2, 0, 10, 1e2]\n",
    "\n",
    "#Choose which label you want to train\n",
    "label_choose = 4\n",
    "\n",
    "\n"
   ]
  },
  {
   "cell_type": "code",
   "execution_count": 23,
   "metadata": {
    "collapsed": false
   },
   "outputs": [
    {
     "data": {
      "text/plain": [
       "array([[ 0.,  0.,  0., ...,  0.,  0.,  0.],\n",
       "       [ 0.,  0.,  0., ...,  0.,  0.,  0.],\n",
       "       [ 0.,  0.,  0., ...,  0.,  0.,  0.],\n",
       "       ..., \n",
       "       [ 0.,  0.,  0., ...,  0.,  0.,  0.],\n",
       "       [ 0.,  0.,  0., ...,  0.,  0.,  0.],\n",
       "       [ 0.,  0.,  0., ...,  0.,  0.,  0.]])"
      ]
     },
     "execution_count": 23,
     "metadata": {},
     "output_type": "execute_result"
    }
   ],
   "source": [
    "#Do 70/30 train/test split\n",
    "#On training set, reserve 10% for cross-validation\n",
    "import random\n",
    "random.seed(200)\n",
    "import pandas as pd\n",
    "from sklearn.model_selection import train_test_split\n",
    "\n",
    "train, test = train_test_split(np.zeros((N,d)), test_size = 0.2)\n",
    "xrng = range(N)\n",
    "random.shuffle(xrng)\n",
    "\n",
    "\n",
    "train"
   ]
  },
  {
   "cell_type": "code",
   "execution_count": 11,
   "metadata": {
    "collapsed": false
   },
   "outputs": [
    {
     "name": "stdout",
     "output_type": "stream",
     "text": [
      "Best lambda 0.0001\n",
      "time to train  5000 samples:  6.16737914085 seconds\n"
     ]
    },
    {
     "data": {
      "text/plain": [
       "0.66100000000000003"
      ]
     },
     "execution_count": 11,
     "metadata": {},
     "output_type": "execute_result"
    }
   ],
   "source": [
    "start = time.time()\n",
    "\n",
    "full_mat = np.zeros((N,d))\n",
    "ydat = []\n",
    "for i in range(N): #Just do a subset of training for now\n",
    "    is_label = 1*(labels[i] == label_choose)\n",
    "    ydat.append(is_label)\n",
    "    full_mat[i,:] = images[i]\n",
    "\n",
    "feature_map, test = train_test_split(np.zeros((N,d)), test_size = 0.2)\n",
    "\n",
    "\n",
    "\n",
    "#Start spark instance on points\n",
    "dpoints = zip(ydat, feature_map)\n",
    "points = sc.parallelize(dpoints)\n",
    "\n",
    "#First use Spark to center the image - removes bias\n",
    "x_mean = points.map(lambda x: x[1]).reduce(lambda x,y: (x+y) ) / float(N)\n",
    "y_mean = np.mean(ydat)\n",
    "\n",
    "x_c = points.map(lambda x: x[1] - x_mean).take(N)\n",
    "y_c = [iy - y_mean for iy in ydat]\n",
    "\n",
    "#Start spark instance on centered points\n",
    "cpoints = sc.parallelize(zip(y_c, x_c))\n",
    "\n",
    "\n",
    "###### Analytical solution to problem #######\n",
    "\n",
    "#Do numerator first - doesn't require regularization\n",
    "numer_map = cpoints.map(lambda x:x[1] * (x[0])) \n",
    "numer_sum = numer_map.reduce(lambda x,y: x+y)\n",
    "\n",
    "#Do denominator over lambda grid\n",
    "#Get analytical solution with associated error\n",
    "w_stars = []\n",
    "w_error = []\n",
    "for ll in lambda_grid:\n",
    "    denom_map = cpoints.map(lambda x: np.dot(x[1], x[1].T) + N*ll) #Need to add regularization - lambda\n",
    "    denom_sum = denom_map.reduce(lambda x,y: x+y)\n",
    "    iw = numer_sum / float(denom_sum)\n",
    "    \n",
    "    iout = np.dot(x_c, iw)\n",
    "    iclass = [0 if q < 0 else 1 for q in iout]\n",
    "    \n",
    "    ierr = np.sum([ic == il for ic,il in zip(iclass, ydat)]) / float(N)\n",
    "    \n",
    "    w_stars.append(iw)\n",
    "    w_error.append(ierr)\n",
    "    \n",
    "#Choose best solution\n",
    "best_ind = np.where(w_error == np.min(w_error))[0][0]\n",
    "w_star = w_stars[best_ind]\n",
    "print 'Best lambda', lambda_grid[best_ind]\n",
    "print 'time to train ', N, 'samples: ', time.time() - start, 'seconds'\n",
    "\n",
    "\n",
    "best_pred = np.dot(x_c, w_star)\n",
    "best_class = [0 if q < 0 else 1 for q in iout]\n",
    "accur = np.sum([ic == il for ic,il in zip(best_class, ydat)]) / float(N)\n",
    "\n",
    "accur"
   ]
  },
  {
   "cell_type": "code",
   "execution_count": 41,
   "metadata": {
    "collapsed": false
   },
   "outputs": [],
   "source": [
    "\n"
   ]
  },
  {
   "cell_type": "code",
   "execution_count": 43,
   "metadata": {
    "collapsed": false
   },
   "outputs": [
    {
     "data": {
      "text/plain": [
       "0.65400000000000003"
      ]
     },
     "execution_count": 43,
     "metadata": {},
     "output_type": "execute_result"
    }
   ],
   "source": []
  },
  {
   "cell_type": "code",
   "execution_count": null,
   "metadata": {
    "collapsed": true
   },
   "outputs": [],
   "source": []
  }
 ],
 "metadata": {
  "kernelspec": {
   "display_name": "Python 2",
   "language": "python",
   "name": "python2"
  },
  "language_info": {
   "codemirror_mode": {
    "name": "ipython",
    "version": 2
   },
   "file_extension": ".py",
   "mimetype": "text/x-python",
   "name": "python",
   "nbconvert_exporter": "python",
   "pygments_lexer": "ipython2",
   "version": "2.7.10"
  }
 },
 "nbformat": 4,
 "nbformat_minor": 0
}
