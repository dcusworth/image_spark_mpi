{
 "cells": [
  {
   "cell_type": "code",
   "execution_count": 1,
   "metadata": {
    "collapsed": false
   },
   "outputs": [
    {
     "name": "stderr",
     "output_type": "stream",
     "text": [
      "//anaconda/lib/python2.7/site-packages/matplotlib/__init__.py:872: UserWarning: axes.color_cycle is deprecated and replaced with axes.prop_cycle; please use the latter.\n",
      "  warnings.warn(self.msg_depr % (key, alt_key))\n"
     ]
    }
   ],
   "source": [
    "%matplotlib inline\n",
    "import numpy as np\n",
    "import seaborn as sns\n",
    "import matplotlib.pyplot as plt\n",
    "\n",
    "import findspark\n",
    "findspark.init() \n",
    "\n",
    "import pyspark\n",
    "sc = pyspark.SparkContext()"
   ]
  },
  {
   "cell_type": "code",
   "execution_count": 10,
   "metadata": {
    "collapsed": false
   },
   "outputs": [
    {
     "data": {
      "text/plain": [
       "[(u'the', 8018), (u'and', 4932), (u'of', 4011), (u'to', 3464), (u'a', 2923)]"
      ]
     },
     "execution_count": 10,
     "metadata": {},
     "output_type": "execute_result"
    }
   ],
   "source": [
    "import os\n",
    "import re\n",
    "\n",
    "\n",
    "def parsewords(sentence):\n",
    "    # Convert all non-alphanumeric characters into empty string\n",
    "    sentence_clean = re.sub(r'([^A-Za-z0-9\\s+])', '', sentence)  \n",
    "    words = sentence_clean.split(' ')\n",
    "    # Convert to lowercase and eliminate empty string words\n",
    "    return [word.lower() for word in words if word != '']\n",
    "\n",
    "\n",
    "\n",
    "textsRDD = sc.textFile('2city10.txt')\n",
    "\n",
    "wordRDD = textsRDD.flatMap(parsewords)\n",
    "wordPairRDD = wordRDD.map(lambda word: (word,1))\n",
    "wordCountRDD = wordPairRDD.reduceByKey(lambda x,y: x+y)\n",
    "top5Words = wordCountRDD.takeOrdered(5, key=lambda x: -x[1])\n",
    "top5Words"
   ]
  },
  {
   "cell_type": "code",
   "execution_count": null,
   "metadata": {
    "collapsed": true
   },
   "outputs": [],
   "source": []
  }
 ],
 "metadata": {
  "kernelspec": {
   "display_name": "Python 2",
   "language": "python",
   "name": "python2"
  },
  "language_info": {
   "codemirror_mode": {
    "name": "ipython",
    "version": 2
   },
   "file_extension": ".py",
   "mimetype": "text/x-python",
   "name": "python",
   "nbconvert_exporter": "python",
   "pygments_lexer": "ipython2",
   "version": "2.7.10"
  }
 },
 "nbformat": 4,
 "nbformat_minor": 0
}
